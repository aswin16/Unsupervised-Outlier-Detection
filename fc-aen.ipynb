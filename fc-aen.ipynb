{
 "cells": [
  {
   "cell_type": "code",
   "execution_count": 1,
   "metadata": {},
   "outputs": [],
   "source": [
    "import tensorflow as tf\n",
    "from tensorflow import keras\n",
    "from tensorflow.keras import layers\n",
    "import numpy as np\n"
   ]
  },
  {
   "cell_type": "code",
   "execution_count": 2,
   "metadata": {},
   "outputs": [],
   "source": [
    "#X_bg = np.load('bckgrnd_hist.npy')\n",
    "X_sig = np.load('sig_hist.npy')\n",
    "#X_bg =  X_bg.reshape(len(X_bg), 100)\n",
    "X_sig = X_sig.reshape(len(X_sig), 100)\n"
   ]
  },
  {
   "cell_type": "code",
   "execution_count": 3,
   "metadata": {},
   "outputs": [],
   "source": [
    "model = keras.Sequential(\n",
    "    [\n",
    "        layers.Dense(88, activation = \"relu\", name = \"layer1\"),\n",
    "        layers.Dense(64, activation = \"relu\", name = \"layer2\"),\n",
    "        layers.Dense(52, activation = \"relu\", name = \"layer3\"),\n",
    "        layers.Dense(64, activation = \"relu\", name = \"layer4\"),\n",
    "        layers.Dense(88, activation = \"relu\", name = \"layer5\"),\n",
    "        layers.Dense(100, activation = \"sigmoid\", name = \"layer6\"),\n",
    "        \n",
    "        \n",
    "        \n",
    "        \n",
    "    ]\n",
    "\n",
    "\n",
    "\n",
    "\n",
    ")"
   ]
  },
  {
   "cell_type": "code",
   "execution_count": null,
   "metadata": {},
   "outputs": [],
   "source": [
    "model.compile(optimizer='adam', loss='mse') #, metrics=['mse'])"
   ]
  },
  {
   "cell_type": "code",
   "execution_count": null,
   "metadata": {},
   "outputs": [],
   "source": [
    "history = model.fit(X_sig, X_sig, epochs = 700, batch_size = 64 , use_multiprocessing = True,verbose = 0)"
   ]
  },
  {
   "cell_type": "code",
   "execution_count": null,
   "metadata": {},
   "outputs": [],
   "source": [
    "sig_rec = model(X_sig)\n",
    "sig_rec_err = np.sqrt(np.sum((X_sig - sig_rec)**2, axis = 1))/600\n",
    "import matplotlib.pyplot as plt\n",
    "a =plt.hist(sig_rec_err,bins = 50,  histtype='step')"
   ]
  },
  {
   "cell_type": "code",
   "execution_count": null,
   "metadata": {},
   "outputs": [],
   "source": [
    " model.fit(X_bg, X_bg, epochs = 700, batch_size = 64 , use_multiprocessing = True,verbose = 0)"
   ]
  },
  {
   "cell_type": "code",
   "execution_count": null,
   "metadata": {},
   "outputs": [],
   "source": [
    "bg_rec = model(X_bg)\n",
    "bg_rec_err = np.sqrt(np.sum((X_bg - bg_rec)**2, axis = 1))/len(bg_rec)\n",
    "import matplotlib.pyplot as plt\n",
    "a = plt.hist(bg_rec_err,bins = 50,  histtype='step')"
   ]
  },
  {
   "cell_type": "code",
   "execution_count": null,
   "metadata": {},
   "outputs": [],
   "source": [
    "a = plt.hist(bg_rec_err[0:600]*300,bins = 50,  histtype='step')\n",
    "b = plt.hist(sig_rec_err,bins = 50,  histtype='step')"
   ]
  },
  {
   "cell_type": "code",
   "execution_count": null,
   "metadata": {},
   "outputs": [],
   "source": []
  }
 ],
 "metadata": {
  "kernelspec": {
   "display_name": "Python 3",
   "language": "python",
   "name": "python3"
  },
  "language_info": {
   "codemirror_mode": {
    "name": "ipython",
    "version": 3
   },
   "file_extension": ".py",
   "mimetype": "text/x-python",
   "name": "python",
   "nbconvert_exporter": "python",
   "pygments_lexer": "ipython3",
   "version": "3.6.9"
  }
 },
 "nbformat": 4,
 "nbformat_minor": 4
}
